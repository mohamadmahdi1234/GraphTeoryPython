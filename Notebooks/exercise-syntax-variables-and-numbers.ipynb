{
 "cells": [
  {
   "cell_type": "markdown",
   "id": "a91abc01",
   "metadata": {
    "papermill": {
     "duration": 0.008757,
     "end_time": "2023-02-22T01:56:29.200941",
     "exception": false,
     "start_time": "2023-02-22T01:56:29.192184",
     "status": "completed"
    },
    "tags": []
   },
   "source": [
    "**This notebook is an exercise in the [Python](https://www.kaggle.com/learn/python) course.  You can reference the tutorial at [this link](https://www.kaggle.com/colinmorris/hello-python).**\n",
    "\n",
    "---\n"
   ]
  },
  {
   "cell_type": "markdown",
   "id": "35e8f3fd",
   "metadata": {
    "papermill": {
     "duration": 0.006333,
     "end_time": "2023-02-22T01:56:29.214214",
     "exception": false,
     "start_time": "2023-02-22T01:56:29.207881",
     "status": "completed"
    },
    "tags": []
   },
   "source": [
    "Welcome to your first set of Python coding problems.  If this is your first time using Kaggle Notebooks, welcome! \n",
    "\n",
    "Notebooks are composed of blocks (called \"cells\") of text and code. Each of these is editable, though you'll mainly be editing the code cells to answer some questions.\n",
    "\n",
    "To get started, try running the code cell below (by pressing the ► button, or clicking on the cell and pressing ctrl+enter on your keyboard)."
   ]
  },
  {
   "cell_type": "code",
   "execution_count": 1,
   "id": "dbe95e75",
   "metadata": {
    "execution": {
     "iopub.execute_input": "2023-02-22T01:56:29.230082Z",
     "iopub.status.busy": "2023-02-22T01:56:29.229175Z",
     "iopub.status.idle": "2023-02-22T01:56:29.240914Z",
     "shell.execute_reply": "2023-02-22T01:56:29.239488Z"
    },
    "papermill": {
     "duration": 0.023535,
     "end_time": "2023-02-22T01:56:29.244227",
     "exception": false,
     "start_time": "2023-02-22T01:56:29.220692",
     "status": "completed"
    },
    "tags": []
   },
   "outputs": [
    {
     "name": "stdout",
     "output_type": "stream",
     "text": [
      "You've successfully run some Python code\n",
      "Congratulations!\n"
     ]
    }
   ],
   "source": [
    "print(\"You've successfully run some Python code\")\n",
    "print(\"Congratulations!\")"
   ]
  },
  {
   "cell_type": "code",
   "execution_count": 2,
   "id": "aa500ba5",
   "metadata": {
    "execution": {
     "iopub.execute_input": "2023-02-22T01:56:29.260564Z",
     "iopub.status.busy": "2023-02-22T01:56:29.260102Z",
     "iopub.status.idle": "2023-02-22T01:56:29.265946Z",
     "shell.execute_reply": "2023-02-22T01:56:29.264858Z"
    },
    "papermill": {
     "duration": 0.01647,
     "end_time": "2023-02-22T01:56:29.268365",
     "exception": false,
     "start_time": "2023-02-22T01:56:29.251895",
     "status": "completed"
    },
    "tags": []
   },
   "outputs": [
    {
     "name": "stdout",
     "output_type": "stream",
     "text": [
      "new cell\n"
     ]
    }
   ],
   "source": [
    "print(\"new cell\")"
   ]
  },
  {
   "cell_type": "markdown",
   "id": "521afc31",
   "metadata": {
    "papermill": {
     "duration": 0.00656,
     "end_time": "2023-02-22T01:56:29.281905",
     "exception": false,
     "start_time": "2023-02-22T01:56:29.275345",
     "status": "completed"
    },
    "tags": []
   },
   "source": [
    "Try adding another line of code in the cell above and re-running it. \n",
    "\n",
    "Now let's get a little fancier:  Add a new code cell by clicking on an existing code cell, hitting the escape key, and then hitting the `a` or `b` key.  The `a` key will add a cell above the current cell, and `b` adds a cell below.\n",
    "\n",
    "Great! Now you know how to use Notebooks.\n",
    "\n",
    "Each hands-on exercise starts by setting up our feedback and code checking mechanism. Run the code cell below to do that. Then you'll be ready to move on to question 0."
   ]
  },
  {
   "cell_type": "code",
   "execution_count": 3,
   "id": "402d574f",
   "metadata": {
    "_kg_hide-input": true,
    "_kg_hide-output": true,
    "execution": {
     "iopub.execute_input": "2023-02-22T01:56:29.297387Z",
     "iopub.status.busy": "2023-02-22T01:56:29.296885Z",
     "iopub.status.idle": "2023-02-22T01:56:29.336596Z",
     "shell.execute_reply": "2023-02-22T01:56:29.334948Z"
    },
    "papermill": {
     "duration": 0.0508,
     "end_time": "2023-02-22T01:56:29.339513",
     "exception": false,
     "start_time": "2023-02-22T01:56:29.288713",
     "status": "completed"
    },
    "tags": []
   },
   "outputs": [
    {
     "name": "stdout",
     "output_type": "stream",
     "text": [
      "Setup complete! You're ready to start question 0.\n"
     ]
    }
   ],
   "source": [
    "from learntools.core import binder; binder.bind(globals())\n",
    "from learntools.python.ex1 import *\n",
    "print(\"Setup complete! You're ready to start question 0.\")"
   ]
  },
  {
   "cell_type": "markdown",
   "id": "e03d7001",
   "metadata": {
    "papermill": {
     "duration": 0.006572,
     "end_time": "2023-02-22T01:56:29.353065",
     "exception": false,
     "start_time": "2023-02-22T01:56:29.346493",
     "status": "completed"
    },
    "tags": []
   },
   "source": [
    "# 0.\n",
    "\n",
    "*This is a silly question intended as an introduction to the format we use for hands-on exercises throughout all Kaggle courses.*\n",
    "\n",
    "**What is your favorite color? **\n",
    "\n",
    "To complete this question, create a variable called `color` in the cell below with an appropriate value. The function call `q0.check()` (which we've already provided in the cell below) will check your answer."
   ]
  },
  {
   "cell_type": "code",
   "execution_count": 4,
   "id": "9184690a",
   "metadata": {
    "execution": {
     "iopub.execute_input": "2023-02-22T01:56:29.368810Z",
     "iopub.status.busy": "2023-02-22T01:56:29.368313Z",
     "iopub.status.idle": "2023-02-22T01:56:29.381310Z",
     "shell.execute_reply": "2023-02-22T01:56:29.380158Z"
    },
    "papermill": {
     "duration": 0.023918,
     "end_time": "2023-02-22T01:56:29.383763",
     "exception": false,
     "start_time": "2023-02-22T01:56:29.359845",
     "status": "completed"
    },
    "tags": []
   },
   "outputs": [
    {
     "data": {
      "application/javascript": [
       "parent.postMessage({\"jupyterEvent\": \"custom.exercise_interaction\", \"data\": {\"outcomeType\": 1, \"valueTowardsCompletion\": 0.25, \"interactionType\": 1, \"questionType\": 2, \"questionId\": \"0_ExerciseFormatTutorial\", \"learnToolsVersion\": \"0.3.4\", \"failureMessage\": \"\", \"exceptionClass\": \"\", \"trace\": \"\"}}, \"*\")"
      ],
      "text/plain": [
       "<IPython.core.display.Javascript object>"
      ]
     },
     "metadata": {},
     "output_type": "display_data"
    },
    {
     "data": {
      "text/markdown": [
       "<span style=\"color:#33cc33\">Correct:</span> What?! You got it right without needing a hint or anything? Drats. Well hey, you should still continue to the next step to get some practice asking for a hint and checking solutions. (Even though you obviously don't need any help here.)"
      ],
      "text/plain": [
       "Correct: What?! You got it right without needing a hint or anything? Drats. Well hey, you should still continue to the next step to get some practice asking for a hint and checking solutions. (Even though you obviously don't need any help here.)"
      ]
     },
     "metadata": {},
     "output_type": "display_data"
    }
   ],
   "source": [
    "# create a variable called color with an appropriate value on the line below\n",
    "# (Remember, strings in Python must be enclosed in 'single' or \"double\" quotes)\n",
    "____\n",
    "color = \"blue\"\n",
    "# Check your answer\n",
    "q0.check()"
   ]
  },
  {
   "cell_type": "markdown",
   "id": "cab65152",
   "metadata": {
    "papermill": {
     "duration": 0.007064,
     "end_time": "2023-02-22T01:56:29.398127",
     "exception": false,
     "start_time": "2023-02-22T01:56:29.391063",
     "status": "completed"
    },
    "tags": []
   },
   "source": [
    "Didn't get the right answer? How do you not even know your own favorite color?!\n",
    "\n",
    "Delete the `#` in the line below to make one of the lines run. You can choose between getting a hint or the full answer by choosing which line to remove the `#` from. \n",
    "\n",
    "Removing the `#` is called uncommenting, because it changes that line from a \"comment\" which Python doesn't run to code, which Python does run."
   ]
  },
  {
   "cell_type": "code",
   "execution_count": 5,
   "id": "ed15c13c",
   "metadata": {
    "execution": {
     "iopub.execute_input": "2023-02-22T01:56:29.414758Z",
     "iopub.status.busy": "2023-02-22T01:56:29.414280Z",
     "iopub.status.idle": "2023-02-22T01:56:29.423933Z",
     "shell.execute_reply": "2023-02-22T01:56:29.422687Z"
    },
    "papermill": {
     "duration": 0.020803,
     "end_time": "2023-02-22T01:56:29.426306",
     "exception": false,
     "start_time": "2023-02-22T01:56:29.405503",
     "status": "completed"
    },
    "tags": []
   },
   "outputs": [
    {
     "data": {
      "application/javascript": [
       "parent.postMessage({\"jupyterEvent\": \"custom.exercise_interaction\", \"data\": {\"interactionType\": 2, \"questionType\": 2, \"questionId\": \"0_ExerciseFormatTutorial\", \"learnToolsVersion\": \"0.3.4\", \"valueTowardsCompletion\": 0.0, \"failureMessage\": \"\", \"exceptionClass\": \"\", \"trace\": \"\", \"outcomeType\": 4}}, \"*\")"
      ],
      "text/plain": [
       "<IPython.core.display.Javascript object>"
      ]
     },
     "metadata": {},
     "output_type": "display_data"
    },
    {
     "data": {
      "text/markdown": [
       "<span style=\"color:#3366cc\">Hint:</span> Your favorite color rhymes with *glue*."
      ],
      "text/plain": [
       "Hint: Your favorite color rhymes with *glue*."
      ]
     },
     "metadata": {},
     "output_type": "display_data"
    }
   ],
   "source": [
    "q0.hint()\n",
    "#q0.solution()"
   ]
  },
  {
   "cell_type": "markdown",
   "id": "05d7dc5f",
   "metadata": {
    "papermill": {
     "duration": 0.007154,
     "end_time": "2023-02-22T01:56:29.441061",
     "exception": false,
     "start_time": "2023-02-22T01:56:29.433907",
     "status": "completed"
    },
    "tags": []
   },
   "source": [
    "The upcoming questions work the same way. The only thing that will change are the question numbers. For the next question, you'll call `q1.check()`, `q1.hint()`, `q1.solution()`, for question 2, you'll call `q2.check()`, and so on."
   ]
  },
  {
   "cell_type": "markdown",
   "id": "18af5b6c",
   "metadata": {
    "papermill": {
     "duration": 0.007008,
     "end_time": "2023-02-22T01:56:29.455383",
     "exception": false,
     "start_time": "2023-02-22T01:56:29.448375",
     "status": "completed"
    },
    "tags": []
   },
   "source": [
    "<hr/>\n",
    "\n",
    "# 1.\n",
    "\n",
    "Complete the code below. In case it's helpful, here is the table of available arithmetic operations:\n",
    "\n",
    "\n",
    "\n",
    "| Operator     | Name           | Description                                            |\n",
    "|--------------|----------------|--------------------------------------------------------|\n",
    "| ``a + b``    | Addition       | Sum of ``a`` and ``b``                                 |\n",
    "| ``a - b``    | Subtraction    | Difference of ``a`` and ``b``                          |\n",
    "| ``a * b``    | Multiplication | Product of ``a`` and ``b``                             |\n",
    "| ``a / b``    | True division  | Quotient of ``a`` and ``b``                            |\n",
    "| ``a // b``   | Floor division | Quotient of ``a`` and ``b``, removing fractional parts |\n",
    "| ``a % b``    | Modulus        | Integer remainder after division of ``a`` by ``b``     |\n",
    "| ``a ** b``   | Exponentiation | ``a`` raised to the power of ``b``                     |\n",
    "| ``-a``       | Negation       | The negative of ``a``                                  |\n",
    "\n",
    "<span style=\"display:none\"></span>\n"
   ]
  },
  {
   "cell_type": "code",
   "execution_count": 6,
   "id": "1dad77ee",
   "metadata": {
    "execution": {
     "iopub.execute_input": "2023-02-22T01:56:29.471775Z",
     "iopub.status.busy": "2023-02-22T01:56:29.471281Z",
     "iopub.status.idle": "2023-02-22T01:56:29.481809Z",
     "shell.execute_reply": "2023-02-22T01:56:29.480611Z"
    },
    "papermill": {
     "duration": 0.02147,
     "end_time": "2023-02-22T01:56:29.484028",
     "exception": false,
     "start_time": "2023-02-22T01:56:29.462558",
     "status": "completed"
    },
    "tags": []
   },
   "outputs": [
    {
     "data": {
      "application/javascript": [
       "parent.postMessage({\"jupyterEvent\": \"custom.exercise_interaction\", \"data\": {\"outcomeType\": 1, \"valueTowardsCompletion\": 0.25, \"interactionType\": 1, \"questionType\": 1, \"questionId\": \"1_CircleArea\", \"learnToolsVersion\": \"0.3.4\", \"failureMessage\": \"\", \"exceptionClass\": \"\", \"trace\": \"\"}}, \"*\")"
      ],
      "text/plain": [
       "<IPython.core.display.Javascript object>"
      ]
     },
     "metadata": {},
     "output_type": "display_data"
    },
    {
     "data": {
      "text/markdown": [
       "<span style=\"color:#33cc33\">Correct</span>"
      ],
      "text/plain": [
       "Correct"
      ]
     },
     "metadata": {},
     "output_type": "display_data"
    }
   ],
   "source": [
    "pi = 3.14159 # approximate\n",
    "diameter = 3\n",
    "\n",
    "# Create a variable called 'radius' equal to half the diameter\n",
    "radius  = diameter/2\n",
    "____\n",
    "\n",
    "# Create a variable called 'area', using the formula for the area of a circle: pi times the radius squared\n",
    "area  = pi * (radius**2)\n",
    "____\n",
    "\n",
    "# Check your answer\n",
    "q1.check()"
   ]
  },
  {
   "cell_type": "code",
   "execution_count": 7,
   "id": "bbbf2c2e",
   "metadata": {
    "execution": {
     "iopub.execute_input": "2023-02-22T01:56:29.502737Z",
     "iopub.status.busy": "2023-02-22T01:56:29.502298Z",
     "iopub.status.idle": "2023-02-22T01:56:29.506300Z",
     "shell.execute_reply": "2023-02-22T01:56:29.505478Z"
    },
    "papermill": {
     "duration": 0.016844,
     "end_time": "2023-02-22T01:56:29.508526",
     "exception": false,
     "start_time": "2023-02-22T01:56:29.491682",
     "status": "completed"
    },
    "tags": []
   },
   "outputs": [],
   "source": [
    "# Uncomment and run the lines below if you need help.\n",
    "#q1.hint()\n",
    "#q1.solution()"
   ]
  },
  {
   "cell_type": "markdown",
   "id": "2764f151",
   "metadata": {
    "papermill": {
     "duration": 0.007506,
     "end_time": "2023-02-22T01:56:29.524041",
     "exception": false,
     "start_time": "2023-02-22T01:56:29.516535",
     "status": "completed"
    },
    "tags": []
   },
   "source": [
    "<hr/>\n",
    "\n",
    "# 2.\n",
    "\n",
    "Add code to the following cell to swap variables `a` and `b` (so that `a` refers to the object previously referred to by `b` and vice versa)."
   ]
  },
  {
   "cell_type": "code",
   "execution_count": 8,
   "id": "d813fa45",
   "metadata": {
    "execution": {
     "iopub.execute_input": "2023-02-22T01:56:29.541916Z",
     "iopub.status.busy": "2023-02-22T01:56:29.541147Z",
     "iopub.status.idle": "2023-02-22T01:56:29.550529Z",
     "shell.execute_reply": "2023-02-22T01:56:29.549657Z"
    },
    "papermill": {
     "duration": 0.020642,
     "end_time": "2023-02-22T01:56:29.552644",
     "exception": false,
     "start_time": "2023-02-22T01:56:29.532002",
     "status": "completed"
    },
    "tags": []
   },
   "outputs": [
    {
     "data": {
      "application/javascript": [
       "parent.postMessage({\"jupyterEvent\": \"custom.exercise_interaction\", \"data\": {\"outcomeType\": 1, \"valueTowardsCompletion\": 0.25, \"interactionType\": 1, \"questionType\": 2, \"questionId\": \"2_VariableSwap\", \"learnToolsVersion\": \"0.3.4\", \"failureMessage\": \"\", \"exceptionClass\": \"\", \"trace\": \"\"}}, \"*\")"
      ],
      "text/plain": [
       "<IPython.core.display.Javascript object>"
      ]
     },
     "metadata": {},
     "output_type": "display_data"
    },
    {
     "data": {
      "text/markdown": [
       "<span style=\"color:#33cc33\">Correct:</span> \n",
       "\n",
       "The most straightforward solution is to use a third variable to temporarily store one of the old values. e.g.:\n",
       "\n",
       "    tmp = a\n",
       "    a = b\n",
       "    b = tmp\n",
       "\n",
       "If you've read lots of Python code, you might have seen the following trick to swap two variables in one line:\n",
       "\n",
       "    a, b = b, a\n",
       "\n",
       "We'll demystify this bit of Python magic later when we talk about *tuples*."
      ],
      "text/plain": [
       "Correct: \n",
       "\n",
       "The most straightforward solution is to use a third variable to temporarily store one of the old values. e.g.:\n",
       "\n",
       "    tmp = a\n",
       "    a = b\n",
       "    b = tmp\n",
       "\n",
       "If you've read lots of Python code, you might have seen the following trick to swap two variables in one line:\n",
       "\n",
       "    a, b = b, a\n",
       "\n",
       "We'll demystify this bit of Python magic later when we talk about *tuples*."
      ]
     },
     "metadata": {},
     "output_type": "display_data"
    }
   ],
   "source": [
    "########### Setup code - don't touch this part ######################\n",
    "# If you're curious, these are examples of lists. We'll talk about \n",
    "# them in depth a few lessons from now. For now, just know that they're\n",
    "# yet another type of Python object, like int or float.\n",
    "a = [1, 2, 3]\n",
    "b = [3, 2, 1]\n",
    "q2.store_original_ids()\n",
    "######################################################################\n",
    "\n",
    "# Your code goes here. Swap the values to which a and b refer.\n",
    "# If you get stuck, you can always uncomment one or both of the lines in\n",
    "# the next cell for a hint, or to peek at the solution.\n",
    "c = a \n",
    "a = b\n",
    "b = c\n",
    "######################################################################\n",
    "\n",
    "# Check your answer\n",
    "q2.check()"
   ]
  },
  {
   "cell_type": "code",
   "execution_count": 9,
   "id": "2ce45096",
   "metadata": {
    "execution": {
     "iopub.execute_input": "2023-02-22T01:56:29.570778Z",
     "iopub.status.busy": "2023-02-22T01:56:29.570331Z",
     "iopub.status.idle": "2023-02-22T01:56:29.574755Z",
     "shell.execute_reply": "2023-02-22T01:56:29.573597Z"
    },
    "papermill": {
     "duration": 0.01646,
     "end_time": "2023-02-22T01:56:29.576893",
     "exception": false,
     "start_time": "2023-02-22T01:56:29.560433",
     "status": "completed"
    },
    "tags": []
   },
   "outputs": [],
   "source": [
    "#q2.hint()"
   ]
  },
  {
   "cell_type": "code",
   "execution_count": 10,
   "id": "c74a4f6b",
   "metadata": {
    "execution": {
     "iopub.execute_input": "2023-02-22T01:56:29.595733Z",
     "iopub.status.busy": "2023-02-22T01:56:29.594891Z",
     "iopub.status.idle": "2023-02-22T01:56:29.599315Z",
     "shell.execute_reply": "2023-02-22T01:56:29.598355Z"
    },
    "papermill": {
     "duration": 0.016564,
     "end_time": "2023-02-22T01:56:29.601563",
     "exception": false,
     "start_time": "2023-02-22T01:56:29.584999",
     "status": "completed"
    },
    "tags": []
   },
   "outputs": [],
   "source": [
    "#q2.solution()"
   ]
  },
  {
   "cell_type": "markdown",
   "id": "9bd704f8",
   "metadata": {
    "papermill": {
     "duration": 0.00854,
     "end_time": "2023-02-22T01:56:29.618467",
     "exception": false,
     "start_time": "2023-02-22T01:56:29.609927",
     "status": "completed"
    },
    "tags": []
   },
   "source": [
    "<hr/>\n",
    "\n",
    "# 3a.\n",
    "\n",
    "Add parentheses to the following expression so that it evaluates to 1."
   ]
  },
  {
   "cell_type": "code",
   "execution_count": 11,
   "id": "953d844f",
   "metadata": {
    "execution": {
     "iopub.execute_input": "2023-02-22T01:56:29.637269Z",
     "iopub.status.busy": "2023-02-22T01:56:29.636465Z",
     "iopub.status.idle": "2023-02-22T01:56:29.642583Z",
     "shell.execute_reply": "2023-02-22T01:56:29.641776Z"
    },
    "papermill": {
     "duration": 0.018002,
     "end_time": "2023-02-22T01:56:29.644625",
     "exception": false,
     "start_time": "2023-02-22T01:56:29.626623",
     "status": "completed"
    },
    "tags": []
   },
   "outputs": [
    {
     "data": {
      "text/plain": [
       "1"
      ]
     },
     "execution_count": 11,
     "metadata": {},
     "output_type": "execute_result"
    }
   ],
   "source": [
    "(5 - 3 )// 2"
   ]
  },
  {
   "cell_type": "code",
   "execution_count": 12,
   "id": "2b6ff0ed",
   "metadata": {
    "execution": {
     "iopub.execute_input": "2023-02-22T01:56:29.663469Z",
     "iopub.status.busy": "2023-02-22T01:56:29.662695Z",
     "iopub.status.idle": "2023-02-22T01:56:29.666907Z",
     "shell.execute_reply": "2023-02-22T01:56:29.665907Z"
    },
    "papermill": {
     "duration": 0.016122,
     "end_time": "2023-02-22T01:56:29.669025",
     "exception": false,
     "start_time": "2023-02-22T01:56:29.652903",
     "status": "completed"
    },
    "tags": []
   },
   "outputs": [],
   "source": [
    "#q3.a.hint()"
   ]
  },
  {
   "cell_type": "code",
   "execution_count": 13,
   "id": "d73249c0",
   "metadata": {
    "execution": {
     "iopub.execute_input": "2023-02-22T01:56:29.687623Z",
     "iopub.status.busy": "2023-02-22T01:56:29.687118Z",
     "iopub.status.idle": "2023-02-22T01:56:29.696365Z",
     "shell.execute_reply": "2023-02-22T01:56:29.695255Z"
    },
    "papermill": {
     "duration": 0.02103,
     "end_time": "2023-02-22T01:56:29.698495",
     "exception": false,
     "start_time": "2023-02-22T01:56:29.677465",
     "status": "completed"
    },
    "tags": []
   },
   "outputs": [
    {
     "data": {
      "application/javascript": [
       "parent.postMessage({\"jupyterEvent\": \"custom.exercise_interaction\", \"data\": {\"interactionType\": 3, \"questionType\": 4, \"questionId\": \"3.1_ArithmeticParensEasy\", \"learnToolsVersion\": \"0.3.4\", \"valueTowardsCompletion\": 0.0, \"failureMessage\": \"\", \"exceptionClass\": \"\", \"trace\": \"\", \"outcomeType\": 4}}, \"*\")"
      ],
      "text/plain": [
       "<IPython.core.display.Javascript object>"
      ]
     },
     "metadata": {},
     "output_type": "display_data"
    },
    {
     "data": {
      "text/markdown": [
       "<span style=\"color:#33cc99\">Solution:</span> \n",
       "```python\n",
       "(5 - 3) // 2\n",
       "```"
      ],
      "text/plain": [
       "Solution: \n",
       "```python\n",
       "(5 - 3) // 2\n",
       "```"
      ]
     },
     "metadata": {},
     "output_type": "display_data"
    }
   ],
   "source": [
    "# Check your answer (Run this code cell to receive credit!)\n",
    "q3.a.solution()"
   ]
  },
  {
   "cell_type": "markdown",
   "id": "d2e67e1d",
   "metadata": {
    "papermill": {
     "duration": 0.008609,
     "end_time": "2023-02-22T01:56:29.715605",
     "exception": false,
     "start_time": "2023-02-22T01:56:29.706996",
     "status": "completed"
    },
    "tags": []
   },
   "source": [
    "# 3b.  <span title=\"A bit spicy\" style=\"color: darkgreen \">🌶️</span>\n",
    "\n",
    "<small>Questions, like this one, marked a spicy pepper are a bit harder.</small>\n",
    "\n",
    "Add parentheses to the following expression so that it evaluates to 0."
   ]
  },
  {
   "cell_type": "code",
   "execution_count": 14,
   "id": "78f6999e",
   "metadata": {
    "execution": {
     "iopub.execute_input": "2023-02-22T01:56:29.735189Z",
     "iopub.status.busy": "2023-02-22T01:56:29.734169Z",
     "iopub.status.idle": "2023-02-22T01:56:29.741925Z",
     "shell.execute_reply": "2023-02-22T01:56:29.740794Z"
    },
    "papermill": {
     "duration": 0.019878,
     "end_time": "2023-02-22T01:56:29.744029",
     "exception": false,
     "start_time": "2023-02-22T01:56:29.724151",
     "status": "completed"
    },
    "tags": []
   },
   "outputs": [
    {
     "data": {
      "text/plain": [
       "0"
      ]
     },
     "execution_count": 14,
     "metadata": {},
     "output_type": "execute_result"
    }
   ],
   "source": [
    "(8 - 3) * (2 - (1 + 1))"
   ]
  },
  {
   "cell_type": "code",
   "execution_count": 15,
   "id": "84bc2611",
   "metadata": {
    "execution": {
     "iopub.execute_input": "2023-02-22T01:56:29.763285Z",
     "iopub.status.busy": "2023-02-22T01:56:29.762597Z",
     "iopub.status.idle": "2023-02-22T01:56:29.766553Z",
     "shell.execute_reply": "2023-02-22T01:56:29.765736Z"
    },
    "papermill": {
     "duration": 0.016007,
     "end_time": "2023-02-22T01:56:29.768619",
     "exception": false,
     "start_time": "2023-02-22T01:56:29.752612",
     "status": "completed"
    },
    "tags": []
   },
   "outputs": [],
   "source": [
    "#q3.b.hint()"
   ]
  },
  {
   "cell_type": "code",
   "execution_count": 16,
   "id": "8cfed169",
   "metadata": {
    "execution": {
     "iopub.execute_input": "2023-02-22T01:56:29.788546Z",
     "iopub.status.busy": "2023-02-22T01:56:29.788050Z",
     "iopub.status.idle": "2023-02-22T01:56:29.797314Z",
     "shell.execute_reply": "2023-02-22T01:56:29.796193Z"
    },
    "papermill": {
     "duration": 0.022356,
     "end_time": "2023-02-22T01:56:29.799619",
     "exception": false,
     "start_time": "2023-02-22T01:56:29.777263",
     "status": "completed"
    },
    "tags": []
   },
   "outputs": [
    {
     "data": {
      "application/javascript": [
       "parent.postMessage({\"jupyterEvent\": \"custom.exercise_interaction\", \"data\": {\"interactionType\": 3, \"questionType\": 4, \"questionId\": \"3.2_ArithmeticParensHard\", \"learnToolsVersion\": \"0.3.4\", \"valueTowardsCompletion\": 0.0, \"failureMessage\": \"\", \"exceptionClass\": \"\", \"trace\": \"\", \"outcomeType\": 4}}, \"*\")"
      ],
      "text/plain": [
       "<IPython.core.display.Javascript object>"
      ]
     },
     "metadata": {},
     "output_type": "display_data"
    },
    {
     "data": {
      "text/markdown": [
       "<span style=\"color:#33cc99\">Solution:</span> `(8 - 3) * (2 - (1 + 1))` is one solution. There may be others."
      ],
      "text/plain": [
       "Solution: `(8 - 3) * (2 - (1 + 1))` is one solution. There may be others."
      ]
     },
     "metadata": {},
     "output_type": "display_data"
    }
   ],
   "source": [
    "# Check your answer (Run this code cell to receive credit!)\n",
    "q3.b.solution()"
   ]
  },
  {
   "cell_type": "markdown",
   "id": "96314a3c",
   "metadata": {
    "papermill": {
     "duration": 0.00872,
     "end_time": "2023-02-22T01:56:29.817636",
     "exception": false,
     "start_time": "2023-02-22T01:56:29.808916",
     "status": "completed"
    },
    "tags": []
   },
   "source": [
    "<hr/>\n",
    "\n",
    "# 4. \n",
    "Alice, Bob and Carol have agreed to pool their Halloween candy and split it evenly among themselves.\n",
    "For the sake of their friendship, any candies left over will be smashed. For example, if they collectively\n",
    "bring home 91 candies, they'll take 30 each and smash 1.\n",
    "\n",
    "Write an arithmetic expression below to calculate how many candies they must smash for a given haul."
   ]
  },
  {
   "cell_type": "code",
   "execution_count": 17,
   "id": "d9e3a11a",
   "metadata": {
    "execution": {
     "iopub.execute_input": "2023-02-22T01:56:29.838756Z",
     "iopub.status.busy": "2023-02-22T01:56:29.837498Z",
     "iopub.status.idle": "2023-02-22T01:56:29.847541Z",
     "shell.execute_reply": "2023-02-22T01:56:29.846650Z"
    },
    "papermill": {
     "duration": 0.022748,
     "end_time": "2023-02-22T01:56:29.849763",
     "exception": false,
     "start_time": "2023-02-22T01:56:29.827015",
     "status": "completed"
    },
    "tags": []
   },
   "outputs": [
    {
     "data": {
      "application/javascript": [
       "parent.postMessage({\"jupyterEvent\": \"custom.exercise_interaction\", \"data\": {\"outcomeType\": 1, \"valueTowardsCompletion\": 0.25, \"interactionType\": 1, \"questionType\": 1, \"questionId\": \"4_CandySplitting\", \"learnToolsVersion\": \"0.3.4\", \"failureMessage\": \"\", \"exceptionClass\": \"\", \"trace\": \"\"}}, \"*\")"
      ],
      "text/plain": [
       "<IPython.core.display.Javascript object>"
      ]
     },
     "metadata": {},
     "output_type": "display_data"
    },
    {
     "data": {
      "text/markdown": [
       "<span style=\"color:#33cc33\">Correct</span>"
      ],
      "text/plain": [
       "Correct"
      ]
     },
     "metadata": {},
     "output_type": "display_data"
    }
   ],
   "source": [
    "# Variables representing the number of candies collected by alice, bob, and carol\n",
    "alice_candies = 121\n",
    "bob_candies = 77\n",
    "carol_candies = 109\n",
    "\n",
    "# Your code goes here! Replace the right-hand side of this assignment with an expression\n",
    "# involving alice_candies, bob_candies, and carol_candies\n",
    "summing = bob_candies+carol_candies+alice_candies\n",
    "to_smash = summing - 3*(summing//3)\n",
    "\n",
    "# Check your answer\n",
    "q4.check()"
   ]
  },
  {
   "cell_type": "code",
   "execution_count": 18,
   "id": "76a65c60",
   "metadata": {
    "execution": {
     "iopub.execute_input": "2023-02-22T01:56:29.871330Z",
     "iopub.status.busy": "2023-02-22T01:56:29.870831Z",
     "iopub.status.idle": "2023-02-22T01:56:29.876038Z",
     "shell.execute_reply": "2023-02-22T01:56:29.874818Z"
    },
    "papermill": {
     "duration": 0.019251,
     "end_time": "2023-02-22T01:56:29.878470",
     "exception": false,
     "start_time": "2023-02-22T01:56:29.859219",
     "status": "completed"
    },
    "tags": []
   },
   "outputs": [],
   "source": [
    "#q4.hint()\n",
    "#q4.solution()"
   ]
  },
  {
   "cell_type": "markdown",
   "id": "7c2929c7",
   "metadata": {
    "papermill": {
     "duration": 0.009071,
     "end_time": "2023-02-22T01:56:29.897185",
     "exception": false,
     "start_time": "2023-02-22T01:56:29.888114",
     "status": "completed"
    },
    "tags": []
   },
   "source": [
    "# Keep Going\n",
    "\n",
    "Next up, you'll **[learn to write new functions and understand functions others write](https://www.kaggle.com/colinmorris/functions-and-getting-help)**. This will make you at least 10 times more productive as a Python programmer. "
   ]
  },
  {
   "cell_type": "markdown",
   "id": "bf04fecb",
   "metadata": {
    "papermill": {
     "duration": 0.009268,
     "end_time": "2023-02-22T01:56:29.915877",
     "exception": false,
     "start_time": "2023-02-22T01:56:29.906609",
     "status": "completed"
    },
    "tags": []
   },
   "source": [
    "---\n",
    "\n",
    "\n",
    "\n",
    "\n",
    "*Have questions or comments? Visit the [course discussion forum](https://www.kaggle.com/learn/python/discussion) to chat with other learners.*"
   ]
  }
 ],
 "metadata": {
  "kernelspec": {
   "display_name": "Python 3",
   "language": "python",
   "name": "python3"
  },
  "language_info": {
   "codemirror_mode": {
    "name": "ipython",
    "version": 3
   },
   "file_extension": ".py",
   "mimetype": "text/x-python",
   "name": "python",
   "nbconvert_exporter": "python",
   "pygments_lexer": "ipython3",
   "version": "3.7.12"
  },
  "papermill": {
   "default_parameters": {},
   "duration": 10.082618,
   "end_time": "2023-02-22T01:56:30.649736",
   "environment_variables": {},
   "exception": null,
   "input_path": "__notebook__.ipynb",
   "output_path": "__notebook__.ipynb",
   "parameters": {},
   "start_time": "2023-02-22T01:56:20.567118",
   "version": "2.3.4"
  }
 },
 "nbformat": 4,
 "nbformat_minor": 5
}
